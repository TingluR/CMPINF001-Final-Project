{
 "cells": [
  {
   "cell_type": "markdown",
   "metadata": {},
   "source": [
    "My matrix is neighborhood satisifaciti"
   ]
  }
 ],
 "metadata": {
  "language_info": {
   "name": "python"
  }
 },
 "nbformat": 4,
 "nbformat_minor": 4
}
